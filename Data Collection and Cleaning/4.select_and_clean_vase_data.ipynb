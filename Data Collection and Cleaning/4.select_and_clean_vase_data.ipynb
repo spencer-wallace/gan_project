{
 "cells": [
  {
   "cell_type": "code",
   "execution_count": 96,
   "id": "consolidated-external",
   "metadata": {},
   "outputs": [],
   "source": [
    "import psycopg2\n",
    "import pandas as pd\n",
    "import re \n",
    "from matplotlib import pyplot as plt\n",
    "from PIL import Image\n",
    "from tqdm import tqdm"
   ]
  },
  {
   "cell_type": "code",
   "execution_count": 75,
   "id": "contrary-trauma",
   "metadata": {},
   "outputs": [],
   "source": [
    "#set pd display higher to be able to see lists for cleaning up\n",
    "pd.options.display.max_rows = 100"
   ]
  },
  {
   "cell_type": "code",
   "execution_count": 76,
   "id": "completed-softball",
   "metadata": {},
   "outputs": [],
   "source": [
    "#postgres connection\n",
    "db_user = 'postgres'\n",
    "db_password = ''\n",
    "db_host = 'localhost'\n",
    "db_port = 5432\n",
    "database = 'met_data'\n",
    "\n",
    "conn_str = f'postgresql://{db_user}:{db_password}@{db_host}:{db_port}/{database}'\n",
    "conn = psycopg2.connect(conn_str)\n",
    "conn.autocommit = True"
   ]
  },
  {
   "cell_type": "code",
   "execution_count": 77,
   "id": "listed-capital",
   "metadata": {},
   "outputs": [],
   "source": [
    "#select object ID and name from object information and relevant image info from raw images\n",
    "query = \"\"\"SELECT \n",
    "            object_information.object_id,\n",
    "            object_information.object_name,\n",
    "            raw_images.id,\n",
    "            raw_images.path,\n",
    "            raw_images.x_pix,\n",
    "            raw_images.y_pix\n",
    "            FROM object_information\n",
    "            JOIN raw_images\n",
    "            ON object_information.object_id = raw_images.object_id\n",
    "            WHERE object_information.object_name SIMILAR TO'%(V|v)ase%'\n",
    "\"\"\"\n",
    "raw_vases = pd.read_sql(query, con=conn)"
   ]
  },
  {
   "cell_type": "code",
   "execution_count": 78,
   "id": "fluid-liability",
   "metadata": {},
   "outputs": [
    {
     "data": {
      "text/plain": [
       "Vase                                                                            4900\n",
       "Covered vase                                                                      98\n",
       "Toilet vase                                                                       49\n",
       "Vase with cover                                                                   32\n",
       "Celery vase                                                                       29\n",
       "Apothecary vase                                                                   28\n",
       "Flower vase                                                                       27\n",
       "Vase fragment                                                                     20\n",
       "Double vase                                                                       18\n",
       "Vases                                                                             18\n",
       "Pair of vases                                                                     16\n",
       "Vase (bottom)                                                                     16\n",
       "Hanging vase                                                                      14\n",
       "Spill vase                                                                        12\n",
       "Pedestal vase stem                                                                12\n",
       "Pilgrim vase                                                                      11\n",
       "Vase, monkey, baby                                                                 9\n",
       "Wine vase                                                                          9\n",
       "Presentation vase                                                                  8\n",
       "Wall vases                                                                         8\n",
       "Wall vase                                                                          8\n",
       "Model vase                                                                         6\n",
       "Hanging flower vase                                                                6\n",
       "Vase in the form of a kneeling figure holding a jar                                6\n",
       "Clock case and vase                                                                5\n",
       "Pastoral Vase                                                                      5\n",
       "Ewer or vase                                                                       5\n",
       "Vase with flowers                                                                  5\n",
       "Statuette, standing priest, vase, censer                                           4\n",
       "Potpourri vase                                                                     4\n",
       "Model, vase, Thutmose IV, KV 43                                                    4\n",
       "Bottle vase                                                                        4\n",
       "Vase, Taweret                                                                      4\n",
       "Small bottle in the shape of a hes-vase, figure of princess on lotus               4\n",
       "Vase, polychrome                                                                   3\n",
       "Vase with lid                                                                      3\n",
       "Vase, decorated ware                                                               3\n",
       "Vase, white cross-lined ware, plant designs                                        3\n",
       "Scarab, Thutmose III, menkheperre, hes vase, uraei, sun disk, cartouche, nub       3\n",
       "Cowroid, hes-vase, lotus (?)                                                       3\n",
       "Scarab, scroll, wedjat, hieroglyphs, sA, vase                                      3\n",
       "Vase, Bottle                                                                       3\n",
       "Vase, perfume                                                                      3\n",
       "Vase, alabastron                                                                   3\n",
       "Vase, inscription, glass                                                           2\n",
       "Bough vase                                                                         2\n",
       "Model vase, Nebseny                                                                2\n",
       "Scarab; spirals, hes-vase; notched back                                            2\n",
       "Vase fragment, festoon                                                             2\n",
       "Vase, amphoriskos, polychrome                                                      1\n",
       "Vase fragment, Arsinoe II's head                                                   1\n",
       "Vase fragment, Berenike II                                                         1\n",
       "Vase, double, Yahudiya ware                                                        1\n",
       "Vase with cover and base                                                           1\n",
       "Vase \\r\\n                                                                          1\n",
       "Finger vase                                                                        1\n",
       "Vase with tray                                                                     1\n",
       "Mortuary vase                                                                      1\n",
       "Vase clock                                                                         1\n",
       "Vase with stand and cover                                                          1\n",
       "Fragment, vase                                                                     1\n",
       "Vase with stand                                                                    1\n",
       "Funerary vase                                                                      1\n",
       "Covered vase with stand                                                            1\n",
       "Vase, labeling a royal estate                                                      1\n",
       "Libation vessel (Heset Vase), Ramesses IV                                          1\n",
       "Vase or lamp                                                                       1\n",
       "Vase, stone, flaring                                                               1\n",
       "Vase fragment, festoon decoration                                                  1\n",
       "Champion vase                                                                      1\n",
       "Vase on stand                                                                      1\n",
       "Vase (gallipot)                                                                    1\n",
       "Vase fragment (?), fluted                                                          1\n",
       "Vase or pencil holder                                                              1\n",
       "Name: object_name, dtype: int64"
      ]
     },
     "execution_count": 78,
     "metadata": {},
     "output_type": "execute_result"
    }
   ],
   "source": [
    "#look at if any undesired objects made it into the df\n",
    "raw_vases.object_name.value_counts()"
   ]
  },
  {
   "cell_type": "code",
   "execution_count": 79,
   "id": "tracked-thumbnail",
   "metadata": {},
   "outputs": [],
   "source": [
    "#only real issue is a number of items with fragment in the name that may not work well, so want to remove those\n",
    "#list comprehension to get object names containg fragment\n",
    "frags = [i for i in raw_vases.object_name.unique() if re.search(r'\\W*(F|f)ragment*', i)]\n"
   ]
  },
  {
   "cell_type": "code",
   "execution_count": 80,
   "id": "collectible-object",
   "metadata": {},
   "outputs": [],
   "source": [
    "#select all objects whose name are not in fragments list\n",
    "raw_vases = raw_vases[~raw_vases.object_name.isin(frags)]"
   ]
  },
  {
   "cell_type": "code",
   "execution_count": 81,
   "id": "transsexual-folder",
   "metadata": {},
   "outputs": [],
   "source": [
    "#create h/w ratio column to help decide what ratio to save images as\n",
    "raw_vases['ratio'] =raw_vases.y_pix / raw_vases.x_pix"
   ]
  },
  {
   "cell_type": "code",
   "execution_count": 82,
   "id": "eight-adrian",
   "metadata": {},
   "outputs": [
    {
     "data": {
      "image/png": "[encoded data removed]",
      "text/plain": [
       "<Figure size 432x288 with 1 Axes>"
      ]
     },
     "metadata": {
      "needs_background": "light"
     },
     "output_type": "display_data"
    }
   ],
   "source": [
    "#plot ratio\n",
    "raw_vases.ratio.hist(bins = 12)\n",
    "plt.show()"
   ]
  },
  {
   "cell_type": "code",
   "execution_count": 83,
   "id": "junior-cosmetic",
   "metadata": {},
   "outputs": [
    {
     "data": {
      "image/png": "[encoded data removed]",
      "text/plain": [
       "<Figure size 432x288 with 1 Axes>"
      ]
     },
     "metadata": {
      "needs_background": "light"
     },
     "output_type": "display_data"
    }
   ],
   "source": [
    "#plot h and w, together with ratio, will determine what size images are saved as\n",
    "plt.hist(raw_vases.x_pix)\n",
    "plt.hist(raw_vases.y_pix)\n",
    "plt.show()"
   ]
  },
  {
   "cell_type": "code",
   "execution_count": 84,
   "id": "eligible-shannon",
   "metadata": {},
   "outputs": [
    {
     "ename": "FileExistsError",
     "evalue": "[Errno 17] File exists: '/Users/spencer/Desktop/vase_image_data'",
     "output_type": "error",
     "traceback": [
      "\u001b[0;31m---------------------------------------------------------------------------\u001b[0m",
      "\u001b[0;31mFileExistsError\u001b[0m                           Traceback (most recent call last)",
      "\u001b[0;32m<ipython-input-84-c0ac156532c9>\u001b[0m in \u001b[0;36m<module>\u001b[0;34m\u001b[0m\n\u001b[1;32m      1\u001b[0m \u001b[0;32mimport\u001b[0m \u001b[0mos\u001b[0m\u001b[0;34m\u001b[0m\u001b[0;34m\u001b[0m\u001b[0m\n\u001b[0;32m----> 2\u001b[0;31m \u001b[0mos\u001b[0m\u001b[0;34m.\u001b[0m\u001b[0mmkdir\u001b[0m\u001b[0;34m(\u001b[0m\u001b[0;34m'/Users/spencer/Desktop/vase_image_data'\u001b[0m\u001b[0;34m)\u001b[0m\u001b[0;34m\u001b[0m\u001b[0;34m\u001b[0m\u001b[0m\n\u001b[0m",
      "\u001b[0;31mFileExistsError\u001b[0m: [Errno 17] File exists: '/Users/spencer/Desktop/vase_image_data'"
     ]
    }
   ],
   "source": []
  },
  {
   "cell_type": "code",
   "execution_count": 97,
   "id": "humanitarian-latino",
   "metadata": {},
   "outputs": [
    {
     "name": "stderr",
     "output_type": "stream",
     "text": [
      "100%|█████████▉| 5420/5442 [26:43<00:08,  2.44it/s] "
     ]
    },
    {
     "name": "stdout",
     "output_type": "stream",
     "text": [
      "image not found\n"
     ]
    },
    {
     "name": "stderr",
     "output_type": "stream",
     "text": [
      "100%|█████████▉| 5426/5442 [26:45<00:04,  3.48it/s]"
     ]
    },
    {
     "name": "stdout",
     "output_type": "stream",
     "text": [
      "image not found\n",
      "image not found\n",
      "image not found\n",
      "image not found\n",
      "image not found\n",
      "image not found\n"
     ]
    },
    {
     "name": "stderr",
     "output_type": "stream",
     "text": [
      "100%|██████████| 5442/5442 [26:47<00:00,  3.39it/s]"
     ]
    },
    {
     "name": "stdout",
     "output_type": "stream",
     "text": [
      "image not found\n",
      "image not found\n",
      "image not found\n",
      "image not found\n",
      "image not found\n",
      "image not found\n",
      "image not found\n"
     ]
    },
    {
     "name": "stderr",
     "output_type": "stream",
     "text": [
      "\n"
     ]
    }
   ],
   "source": [
    "#based on the info provided above, decided to use images at a 5:4 ratio with h = 2000, w = 1600\n",
    "#for ease of use with github, I reduced dimensions used to include a copy of the data under 100 mb\n",
    "#halved in size \n",
    "new_dir = '/Users/spencer/Desktop/vase_image_data/'\n",
    "for i in tqdm(range(len(raw_vases))):\n",
    "    try:\n",
    "        img = Image.open(raw_vases.path[i]).resize((384, 480))\n",
    "        img.save(new_dir+f'vase_{raw_vases.id[i]}.jpg')\n",
    "    except:\n",
    "        print('image not found')"
   ]
  },
  {
   "cell_type": "code",
   "execution_count": 98,
   "id": "direct-concord",
   "metadata": {},
   "outputs": [
    {
     "data": {
      "text/plain": [
       "'/Users/spencer/Desktop/vase_image_data.zip'"
      ]
     },
     "execution_count": 98,
     "metadata": {},
     "output_type": "execute_result"
    }
   ],
   "source": [
    "import shutil\n",
    "new_dir = '/Users/spencer/Desktop/vase_image_data'\n",
    "shutil.make_archive('/Users/spencer/Desktop/vase_image_data', 'zip', new_dir)\n"
   ]
  },
  {
   "cell_type": "code",
   "execution_count": null,
   "id": "closed-madness",
   "metadata": {},
   "outputs": [],
   "source": []
  }
 ],
 "metadata": {
  "kernelspec": {
   "display_name": "Python 3",
   "language": "python",
   "name": "python3"
  },
  "language_info": {
   "codemirror_mode": {
    "name": "ipython",
    "version": 3
   },
   "file_extension": ".py",
   "mimetype": "text/x-python",
   "name": "python",
   "nbconvert_exporter": "python",
   "pygments_lexer": "ipython3",
   "version": "3.8.5"
  }
 },
 "nbformat": 4,
 "nbformat_minor": 5
}
