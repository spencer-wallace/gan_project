{
 "cells": [
  {
   "cell_type": "code",
   "execution_count": null,
   "id": "greek-competition",
   "metadata": {},
   "outputs": [],
   "source": [
    "from PIL import Image\n",
    "import pandas as pd\n",
    "import requests\n",
    "import psycopg2\n",
    "import io \n",
    "from ratelimiter import RateLimiter\n",
    "from ast import literal_eval"
   ]
  },
  {
   "cell_type": "code",
   "execution_count": null,
   "id": "drawn-convert",
   "metadata": {},
   "outputs": [],
   "source": [
    "#postgres connection\n",
    "db_user = 'postgres'\n",
    "db_password = ''\n",
    "db_host = 'localhost'\n",
    "db_port = 5432\n",
    "database = 'met_data'\n",
    "\n",
    "conn_str = f'postgresql://{db_user}:{db_password}@{db_host}:{db_port}/{database}'\n",
    "conn = psycopg2.connect(conn_str)\n",
    "conn.autocommit = True"
   ]
  },
  {
   "cell_type": "code",
   "execution_count": null,
   "id": "sixth-comment",
   "metadata": {},
   "outputs": [],
   "source": [
    "#creates new table to save images into along with size information\n",
    "command = \"\"\"CREATE TABLE raw_images(\n",
    "            id int PRIMARY KEY,\n",
    "            object_id int,\n",
    "            x_pix int,\n",
    "            y_pix int,\n",
    "            path text);\"\"\""
   ]
  },
  {
   "cell_type": "code",
   "execution_count": null,
   "id": "lesser-paraguay",
   "metadata": {},
   "outputs": [],
   "source": [
    "#executes above command\n",
    "cursor = conn.cursor()\n",
    "cursor.execute(command)\n",
    "cursor.close"
   ]
  },
  {
   "cell_type": "code",
   "execution_count": null,
   "id": "drawn-latin",
   "metadata": {},
   "outputs": [],
   "source": [
    "#function to scrape image from internet, get its size information, save image to drive, and save all information into postgres\n",
    "#only works for first images\n",
    "#function wrapper to limit scrape speed. Met asks to keep requests to 80 per second\n",
    "@RateLimiter(max_calls=80, period=1)\n",
    "def init_image(i, url, object_id):\n",
    "    r = requests.get(url)\n",
    "    with io.BytesIO(r.content) as j: \n",
    "        image_pil = Image.open(j)\n",
    "        x_pix, y_pix = image_pil.size\n",
    "        path = f'##filepath##/img{object_id}_0.jpg'\n",
    "        image_pil.save(path)\n",
    "        command = f\"\"\"INSERT INTO raw_images(id,\n",
    "                object_id,\n",
    "                x_pix,\n",
    "                y_pix,\n",
    "                path)\n",
    "                    VALUES ({i},{object_id}, {x_pix}, {y_pix}, $${path}$$)\"\"\"\n",
    "        cursor = conn.cursor()\n",
    "        cursor.execute(command)\n",
    "        cursor.close\n",
    "    "
   ]
  },
  {
   "cell_type": "code",
   "execution_count": null,
   "id": "intensive-strike",
   "metadata": {},
   "outputs": [],
   "source": [
    "#bring in urls being stored in sql\n",
    "query = \"\"\"SELECT * FROM image_url;\"\"\"\n",
    "df = pd.read_sql(query, con=conn)"
   ]
  },
  {
   "cell_type": "code",
   "execution_count": null,
   "id": "otherwise-sending",
   "metadata": {},
   "outputs": [],
   "source": [
    "#starting with index 0, goes through dataframe and uses init image function on primary images\n",
    "#tot used to track progress in cases of errors\n",
    "tot = 0\n",
    "for i in tqdm(range(len(df.iloc[[tot:,:]]))):\n",
    "    init_image(i, df['link'].iloc[i], df['id'].iloc[i])\n",
    "    tot+=1"
   ]
  },
  {
   "cell_type": "code",
   "execution_count": null,
   "id": "apparent-arthur",
   "metadata": {},
   "outputs": [],
   "source": [
    "#secondary images were presented as lists, meaning additional preprocessing was necessary\n",
    "#entries were not being identified as lists. literal_eval converted them into lists\n",
    "df['other_links'] = df.other_links.apply(literal_eval)\n",
    "#separate out necessary info into second df for ease of use\n",
    "other_pics_df = df[['id', 'other_links']]\n",
    "#explode lists of links so each link is its own row\n",
    "other_pics_df = other_pics_df.explode('other_links')\n",
    "#drop any duplicate links\n",
    "other_pics_df= other_pics_df.dropna(subset=['other_links'])\n"
   ]
  },
  {
   "cell_type": "code",
   "execution_count": null,
   "id": "secondary-emission",
   "metadata": {},
   "outputs": [],
   "source": [
    "#iterate through other_pics_df and create list of new image IDs based on object id and number of images\n",
    "image_id_list = []\n",
    "tot_2 =0\n",
    "for element in other_pics_df.id.unique():\n",
    "    for entry in range(len(other_pics_df[other_pics_df.id == element])):\n",
    "        image_id_list.append(f'{element}_{entry+1}')\n",
    "    "
   ]
  },
  {
   "cell_type": "code",
   "execution_count": null,
   "id": "extensive-mouse",
   "metadata": {},
   "outputs": [],
   "source": [
    "#add image ID list to df\n",
    "other_pics_df['image_id'] =image_id_list"
   ]
  },
  {
   "cell_type": "code",
   "execution_count": null,
   "id": "vulnerable-shuttle",
   "metadata": {},
   "outputs": [],
   "source": [
    "#save as csv for backup\n",
    "other_pics_df.to_csv('secondary_pics_links.csv')"
   ]
  },
  {
   "cell_type": "code",
   "execution_count": null,
   "id": "genuine-penetration",
   "metadata": {},
   "outputs": [],
   "source": [
    "#create second function that operates much like the first with the exception that the name of the image is saved using the new image IDs\n",
    "@RateLimiter(max_calls=80, period=1)\n",
    "def init_secondary_images(i, entry, image_id, object_id):\n",
    "    r = requests.get(entry)\n",
    "    with io.BytesIO(r.content) as j: \n",
    "        image_pil = Image.open(j)\n",
    "        x_pix, y_pix = image_pil.size\n",
    "        path = f'##filepath##/img{image_id}.jpg'\n",
    "        image_pil.save(path)\n",
    "        command = f\"\"\"INSERT INTO raw_images(id,\n",
    "                object_id,\n",
    "                x_pix,\n",
    "                y_pix,\n",
    "                path)\n",
    "                    VALUES ({i},{object_id}, {x_pix}, {y_pix}, $${path}$$)\"\"\"\n",
    "        cursor = conn.cursor()\n",
    "        cursor.execute(command)\n",
    "        cursor.close\n",
    "    \n",
    "    "
   ]
  },
  {
   "cell_type": "code",
   "execution_count": null,
   "id": "standard-aberdeen",
   "metadata": {},
   "outputs": [],
   "source": [
    "#counter for restarts\n",
    "start = 0"
   ]
  },
  {
   "cell_type": "code",
   "execution_count": null,
   "id": "front-chair",
   "metadata": {},
   "outputs": [],
   "source": [
    "#iterate through secondary image links, scrape, save files to hard drive, save info as sql\n",
    "for i in tqdm(range(len(other_pics_df))[start:]):\n",
    "    try:\n",
    "        init_secondary_images(start, other_pics_df['other_links'].iloc[i], other_pics_df['image_id'].iloc[i], other_pics_df.id.iloc[i])\n",
    "        start+=1\n",
    "    except:\n",
    "        print('pass')\n",
    "        start+=1   "
   ]
  }
 ],
 "metadata": {
  "kernelspec": {
   "display_name": "Python 3",
   "language": "python",
   "name": "python3"
  },
  "language_info": {
   "codemirror_mode": {
    "name": "ipython",
    "version": 3
   },
   "file_extension": ".py",
   "mimetype": "text/x-python",
   "name": "python",
   "nbconvert_exporter": "python",
   "pygments_lexer": "ipython3",
   "version": "3.8.5"
  }
 },
 "nbformat": 4,
 "nbformat_minor": 5
}
