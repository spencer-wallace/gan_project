{
 "cells": [
  {
   "cell_type": "code",
   "execution_count": 1,
   "id": "married-revelation",
   "metadata": {},
   "outputs": [],
   "source": [
    "import psycopg2\n",
    "import pandas as pd\n",
    "import requests \n",
    "from sqlalchemy import create_engine\n",
    "from ast import literal_eval\n"
   ]
  },
  {
   "cell_type": "code",
   "execution_count": 34,
   "id": "military-yeast",
   "metadata": {},
   "outputs": [],
   "source": [
    "#establish postgres connection\n",
    "db_user = 'postgres'\n",
    "db_password = ''\n",
    "db_host = 'localhost'\n",
    "db_port = 5432\n",
    "database = 'met_data'\n",
    "\n",
    "conn_str = f'postgresql://{db_user}:{db_password}@{db_host}:{db_port}/{database}'\n",
    "conn = psycopg2.connect(conn_str)\n",
    "conn.autocommit = True"
   ]
  },
  {
   "cell_type": "code",
   "execution_count": null,
   "id": "dietary-radius",
   "metadata": {},
   "outputs": [],
   "source": [
    "#read in the MetObjects csv obtained from the Met's github\n",
    "#contains all of the information the met has on each piece, but does not have urls for images\n",
    "df = pd.read_csv('##filepath##/openaccess/MetObjects.csv')"
   ]
  },
  {
   "cell_type": "code",
   "execution_count": null,
   "id": "international-california",
   "metadata": {},
   "outputs": [],
   "source": [
    "#turn MetObjects into postgres table\n",
    "engine = create_engine(conn_str)\n",
    "df.to_sql('raw_object_info', engine)"
   ]
  },
  {
   "cell_type": "code",
   "execution_count": 21,
   "id": "spread-foster",
   "metadata": {},
   "outputs": [],
   "source": [
    "#look at first five items in order to get column names and quick look at data\n",
    "query = \"\"\"SELECT *\n",
    "            FROM raw_object_info\n",
    "            LIMIT 5;\"\"\"\n",
    "first_5 = pd.read_sql(query, con = conn)"
   ]
  },
  {
   "cell_type": "code",
   "execution_count": 23,
   "id": "greenhouse-faculty",
   "metadata": {},
   "outputs": [],
   "source": [
    "#column names have spaces that are best removed\n",
    "fixed_cols = [str(col.replace(' ', '_').lower()).replace(\"'\", '\"') for col in first_5.columns]"
   ]
  },
  {
   "cell_type": "code",
   "execution_count": 25,
   "id": "going-macedonia",
   "metadata": {},
   "outputs": [
    {
     "name": "stdout",
     "output_type": "stream",
     "text": [
      "index\n",
      "index\n",
      "object_number\n",
      "object_number\n",
      "is_highlight\n",
      "is_highlight\n",
      "is_timeline_work\n",
      "is_timeline_work\n",
      "is_public_domain\n",
      "is_public_domain\n",
      "object_id\n",
      "object_id\n",
      "gallery_number\n",
      "gallery_number\n",
      "department\n",
      "department\n",
      "accessionyear\n",
      "accessionyear\n",
      "object_name\n",
      "object_name\n",
      "title\n",
      "title\n",
      "culture\n",
      "culture\n",
      "period\n",
      "period\n",
      "dynasty\n",
      "dynasty\n",
      "reign\n",
      "reign\n",
      "portfolio\n",
      "portfolio\n",
      "constiuent_id\n",
      "constiuent_id\n",
      "artist_role\n",
      "artist_role\n",
      "artist_prefix\n",
      "artist_prefix\n",
      "artist_display_name\n",
      "artist_display_name\n",
      "artist_display_bio\n",
      "artist_display_bio\n",
      "artist_suffix\n",
      "artist_suffix\n",
      "artist_alpha_sort\n",
      "artist_alpha_sort\n",
      "artist_nationality\n",
      "artist_nationality\n",
      "artist_begin_date\n",
      "artist_begin_date\n",
      "artist_end_date\n",
      "artist_end_date\n",
      "artist_gender\n",
      "artist_gender\n",
      "artist_ulan_url\n",
      "artist_ulan_url\n",
      "artist_wikidata_url\n",
      "artist_wikidata_url\n",
      "object_date\n",
      "object_date\n",
      "object_begin_date\n",
      "object_begin_date\n",
      "object_end_date\n",
      "object_end_date\n",
      "medium\n",
      "medium\n",
      "dimensions\n",
      "dimensions\n",
      "credit_line\n",
      "credit_line\n",
      "geography_type\n",
      "geography_type\n",
      "city\n",
      "city\n",
      "state\n",
      "state\n",
      "county\n",
      "county\n",
      "country\n",
      "country\n",
      "region\n",
      "region\n",
      "subregion\n",
      "subregion\n",
      "locale\n",
      "locale\n",
      "locus\n",
      "locus\n",
      "excavation\n",
      "excavation\n",
      "river\n",
      "river\n",
      "classification\n",
      "classification\n",
      "rights_and_reproduction\n",
      "rights_and_reproduction\n",
      "link_resource\n",
      "link_resource\n",
      "object_wikidata_url\n",
      "object_wikidata_url\n",
      "metadata_date\n",
      "metadata_date\n",
      "repository\n",
      "repository\n",
      "tags\n",
      "tags\n",
      "tags_aat_url\n",
      "tags_aat_url\n",
      "tags_wikidata_url\n",
      "tags_wikidata_url\n"
     ]
    }
   ],
   "source": [
    "#goes through the columns in postgres and fixes them \n",
    "for col in range(len(first_5.columns)):\n",
    "    command = f\"\"\"ALTER TABLE raw_object_info\n",
    "                RENAME COLUMN \"{first_5.columns[col]}\" TO {fixed_cols[col]};\"\"\"\n",
    "    cursor = conn.cursor()\n",
    "    try:\n",
    "        cursor.execute(command)\n",
    "    except:\n",
    "        print('already done')\n",
    "    cursor.close()\n",
    "    "
   ]
  },
  {
   "cell_type": "code",
   "execution_count": 27,
   "id": "unlike-aluminum",
   "metadata": {},
   "outputs": [
    {
     "data": {
      "text/plain": [
       "['artist_role',\n",
       " 'artist_prefix',\n",
       " 'artist_display_name',\n",
       " 'artist_display_bio',\n",
       " 'artist_suffix',\n",
       " 'artist_alpha_sort',\n",
       " 'artist_nationality',\n",
       " 'artist_begin_date',\n",
       " 'artist_end_date',\n",
       " 'artist_gender',\n",
       " 'artist_ulan_url',\n",
       " 'artist_wikidata_url']"
      ]
     },
     "execution_count": 27,
     "metadata": {},
     "output_type": "execute_result"
    }
   ],
   "source": [
    "#want to store artist information in separate postgres table\n",
    "#create list of columns with artist in name\n",
    "artist_columns = [col  for col in fixed_cols if 'artist' in col]"
   ]
  },
  {
   "cell_type": "code",
   "execution_count": 33,
   "id": "victorian-commerce",
   "metadata": {},
   "outputs": [],
   "source": [
    "#for each artist column, I needed to expand the strings separated with pipes of  artists associated with piece\n",
    "#for each column, iterated through using list comprehension and split on pipe if value wasnt null \n",
    "#not the most efficient way to do this, but route I took\n",
    "artist_display_bio = [[i for i in df.iloc[row,20].split('|')] if df['artist_display_bio'].isna()[row] == False  else None for row in range(len(df))]\n",
    " "
   ]
  },
  {
   "cell_type": "code",
   "execution_count": 34,
   "id": "tropical-newman",
   "metadata": {},
   "outputs": [],
   "source": [
    "artist_suffix = [[i for i in df.iloc[row,21].split('|')] if df['artist_suffix'].isna()[row] == False  else None for row in range(len(df))]\n"
   ]
  },
  {
   "cell_type": "code",
   "execution_count": 35,
   "id": "offshore-consensus",
   "metadata": {},
   "outputs": [],
   "source": [
    "artist_alpha_sort =[[i for i in df.iloc[row,22].split('|')] if df['artist_alpha_sort'].isna()[row] == False  else None for row in range(len(df))]\n"
   ]
  },
  {
   "cell_type": "code",
   "execution_count": 36,
   "id": "prostate-sally",
   "metadata": {},
   "outputs": [],
   "source": [
    "artist_nationality = [[i for i in df.iloc[row,23].split('|')] if df['artist_nationality'].isna()[row] == False  else None for row in range(len(df))]\n"
   ]
  },
  {
   "cell_type": "code",
   "execution_count": 37,
   "id": "relative-match",
   "metadata": {},
   "outputs": [],
   "source": [
    "artist_begin_date = [[i for i in df.iloc[row,24].split('|')] if df['artist_begin_date'].isna()[row] == False  else None for row in range(len(df))]\n"
   ]
  },
  {
   "cell_type": "code",
   "execution_count": 38,
   "id": "interracial-hindu",
   "metadata": {},
   "outputs": [],
   "source": [
    "artist_end_date = [[i for i in df.iloc[row,25].split('|')] if df['artist_end_date'].isna()[row] == False  else None for row in range(len(df))]\n"
   ]
  },
  {
   "cell_type": "code",
   "execution_count": 39,
   "id": "velvet-powder",
   "metadata": {},
   "outputs": [],
   "source": [
    "artist_gender = [[i for i in df.iloc[row,26].split('|')] if df['artist_gender'].isna()[row] == False  else None for row in range(len(df))]\n"
   ]
  },
  {
   "cell_type": "code",
   "execution_count": 40,
   "id": "intelligent-water",
   "metadata": {},
   "outputs": [],
   "source": [
    "artist_ulan_url = [[i for i in df.iloc[row,27].split('|')] if df['artist_ulan_url'].isna()[row] == False  else None for row in range(len(df))]\n"
   ]
  },
  {
   "cell_type": "code",
   "execution_count": 41,
   "id": "personalized-ethernet",
   "metadata": {},
   "outputs": [],
   "source": [
    "artist_wikidata_url = [[i for i in df.iloc[row,28].split('|')] if df['artist_wikidata_url'].isna()[row] == False  else None for row in range(len(df))]\n"
   ]
  },
  {
   "cell_type": "code",
   "execution_count": 42,
   "id": "bearing-operations",
   "metadata": {},
   "outputs": [],
   "source": [
    "prefix = [[i for i in df.iloc[row,18].split('|')] if df['artist_prefix'].isna()[row] == False  else None for row in range(len(df))]\n"
   ]
  },
  {
   "cell_type": "code",
   "execution_count": 43,
   "id": "regular-despite",
   "metadata": {},
   "outputs": [],
   "source": [
    "artist_display_names =  [[i for i in df.iloc[row,19].split('|')] if df['artist_display_name'].isna()[row] == False  else None for row in range(len(df))]\n"
   ]
  },
  {
   "cell_type": "code",
   "execution_count": 44,
   "id": "concerned-banana",
   "metadata": {},
   "outputs": [],
   "source": [
    "artist_roles =  [[i for i in df.iloc[row,17].split('|')] if df['artist_role'].isna()[row] == False  else None for row in range(len(df))]\n",
    "\n"
   ]
  },
  {
   "cell_type": "code",
   "execution_count": 45,
   "id": "graphic-american",
   "metadata": {},
   "outputs": [],
   "source": [
    "#replace old artist columns with new list ones\n",
    "df['artist_role'] = artist_roles\n",
    "df['artist_prefix'] = prefix\n",
    "df['artist_display_name'] = artist_display_names\n",
    "df['artist_display_bio'] = artist_display_bio\n",
    "df['artist_suffix'] =artist_suffix\n",
    "df['artist_alpha_sort'] = artist_alpha_sort\n",
    "df['artist_nationality'] = artist_nationality\n",
    "df['artist_begin_date'] = artist_begin_date\n",
    "df['artist_end_date'] = artist_end_date\n",
    "df['artist_gender'] = artist_gender\n",
    "df['artist_ulan_url'] = artist_ulan_url\n",
    "df['artist_wikidata_url'] = artist_wikidata_url"
   ]
  },
  {
   "cell_type": "code",
   "execution_count": null,
   "id": "rocky-nicaragua",
   "metadata": {},
   "outputs": [],
   "source": [
    "#function to split tags pipe lists into real lists, returns None if there is an error\n",
    "def replace(x):\n",
    "    try:\n",
    "        return [i for i in x.split('|')]\n",
    "    except:\n",
    "        return None\n"
   ]
  },
  {
   "cell_type": "code",
   "execution_count": null,
   "id": "bibliographic-jaguar",
   "metadata": {},
   "outputs": [],
   "source": [
    "#use function to expand tags columns\n",
    "df['tags'] = df.tags.map(replace)\n",
    "df['tags_wikidata_url'] = df.tags_wikidata_url.map(replace)\n",
    "df['tags_aat_url'] = df.tags_aat_url.map(replace)"
   ]
  },
  {
   "cell_type": "code",
   "execution_count": null,
   "id": "flush-jason",
   "metadata": {},
   "outputs": [],
   "source": [
    "#turn MetObjects into postgres table\n",
    "engine = create_engine(conn_str)\n",
    "df.to_sql('object_information', engine)"
   ]
  }
 ],
 "metadata": {
  "kernelspec": {
   "display_name": "Python 3",
   "language": "python",
   "name": "python3"
  },
  "language_info": {
   "codemirror_mode": {
    "name": "ipython",
    "version": 3
   },
   "file_extension": ".py",
   "mimetype": "text/x-python",
   "name": "python",
   "nbconvert_exporter": "python",
   "pygments_lexer": "ipython3",
   "version": "3.8.5"
  }
 },
 "nbformat": 4,
 "nbformat_minor": 5
}
