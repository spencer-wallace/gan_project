{
 "cells": [
  {
   "cell_type": "code",
   "execution_count": null,
   "id": "consolidated-external",
   "metadata": {},
   "outputs": [],
   "source": [
    "import psycopg2\n",
    "import pandas as pd\n",
    "import re \n",
    "from matplotlib import pyplot as plt\n",
    "from PIL import Image\n",
    "from tqdm import tqdm"
   ]
  },
  {
   "cell_type": "code",
   "execution_count": null,
   "id": "contrary-trauma",
   "metadata": {},
   "outputs": [],
   "source": [
    "#set pd display higher to be able to see lists for cleaning up\n",
    "pd.options.display.max_rows = 100"
   ]
  },
  {
   "cell_type": "code",
   "execution_count": null,
   "id": "completed-softball",
   "metadata": {},
   "outputs": [],
   "source": [
    "#postgres connection\n",
    "db_user = 'postgres'\n",
    "db_password = ''\n",
    "db_host = 'localhost'\n",
    "db_port = 5432\n",
    "database = 'met_data'\n",
    "\n",
    "conn_str = f'postgresql://{db_user}:{db_password}@{db_host}:{db_port}/{database}'\n",
    "conn = psycopg2.connect(conn_str)\n",
    "conn.autocommit = True"
   ]
  },
  {
   "cell_type": "code",
   "execution_count": null,
   "id": "listed-capital",
   "metadata": {},
   "outputs": [],
   "source": [
    "#select object ID and name from object information and relevant image info from raw images\n",
    "query = \"\"\"SELECT \n",
    "            object_information.object_id,\n",
    "            object_information.object_name,\n",
    "            raw_images.id,\n",
    "            raw_images.path,\n",
    "            raw_images.x_pix,\n",
    "            raw_images.y_pix\n",
    "            FROM object_information\n",
    "            JOIN raw_images\n",
    "            ON object_information.object_id = raw_images.object_id\n",
    "            WHERE object_information.object_name SIMILAR TO'%(V|v)ase%'\n",
    "\"\"\"\n",
    "raw_vases = pd.read_sql(query, con=conn)"
   ]
  },
  {
   "cell_type": "code",
   "execution_count": null,
   "id": "fluid-liability",
   "metadata": {},
   "outputs": [],
   "source": [
    "#look at if any undesired objects made it into the df\n",
    "raw_vases.object_name.value_counts()"
   ]
  },
  {
   "cell_type": "code",
   "execution_count": null,
   "id": "tracked-thumbnail",
   "metadata": {},
   "outputs": [],
   "source": [
    "#only real issue is a number of items with fragment in the name that may not work well, so want to remove those\n",
    "#list comprehension to get object names containg fragment\n",
    "frags = [i for i in raw_vases.object_name.unique() if re.search(r'\\W*(F|f)ragment*', i)]\n"
   ]
  },
  {
   "cell_type": "code",
   "execution_count": null,
   "id": "collectible-object",
   "metadata": {},
   "outputs": [],
   "source": [
    "#select all objects whose name are not in fragments list\n",
    "raw_vases = raw_vases[~raw_vases.object_name.isin(frags)]"
   ]
  },
  {
   "cell_type": "code",
   "execution_count": null,
   "id": "transsexual-folder",
   "metadata": {},
   "outputs": [],
   "source": [
    "#create h/w ratio column to help decide what ratio to save images as\n",
    "raw_vases['ratio'] =raw_vases.y_pix / raw_vases.x_pix"
   ]
  },
  {
   "cell_type": "code",
   "execution_count": null,
   "id": "eight-adrian",
   "metadata": {},
   "outputs": [],
   "source": [
    "#plot ratio\n",
    "raw_vases.ratio.hist(bins = 12)\n",
    "plt.show()"
   ]
  },
  {
   "cell_type": "code",
   "execution_count": null,
   "id": "junior-cosmetic",
   "metadata": {},
   "outputs": [],
   "source": [
    "#plot h and w, together with ratio, will determine what size images are saved as\n",
    "plt.hist(raw_vases.x_pix)\n",
    "plt.hist(raw_vases.y_pix)\n",
    "plt.show()"
   ]
  },
  {
   "cell_type": "code",
   "execution_count": null,
   "id": "humanitarian-latino",
   "metadata": {},
   "outputs": [],
   "source": [
    "#based on the info provided above, decided to use images at a 5:4 ratio with h = 2000, w = 1600\n",
    "#for ease of use with github, I reduced dimensions used to include a copy of the data under 100 mb\n",
    "#halved in size \n",
    "new_dir = '##new_directory##'\n",
    "for i in tqdm(range(len(raw_vases))):\n",
    "    try:\n",
    "        img = Image.open(raw_vases.path[i]).resize((384, 480))\n",
    "        img.save(new_dir+f'vase_{raw_vases.id[i]}.jpg')\n",
    "    except:\n",
    "        print('image not found')"
   ]
  },
  {
   "cell_type": "code",
   "execution_count": null,
   "id": "direct-concord",
   "metadata": {},
   "outputs": [],
   "source": [
    "import shutil\n",
    "new_dir = '##new_directory##'\n",
    "shutil.make_archive('##data_directory##', 'zip', new_dir)\n"
   ]
  },
  {
   "cell_type": "code",
   "execution_count": null,
   "id": "closed-madness",
   "metadata": {},
   "outputs": [],
   "source": []
  }
 ],
 "metadata": {
  "kernelspec": {
   "display_name": "Python 3",
   "language": "python",
   "name": "python3"
  },
  "language_info": {
   "codemirror_mode": {
    "name": "ipython",
    "version": 3
   },
   "file_extension": ".py",
   "mimetype": "text/x-python",
   "name": "python",
   "nbconvert_exporter": "python",
   "pygments_lexer": "ipython3",
   "version": "3.8.5"
  }
 },
 "nbformat": 4,
 "nbformat_minor": 5
}
